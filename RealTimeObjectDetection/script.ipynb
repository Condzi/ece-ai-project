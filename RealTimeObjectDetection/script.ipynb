{
 "cells": [
  {
   "cell_type": "code",
   "execution_count": 2,
   "metadata": {},
   "outputs": [],
   "source": [
    "import cv2\n",
    "import os\n",
    "import time\n",
    "import uuid"
   ]
  },
  {
   "cell_type": "code",
   "execution_count": 3,
   "metadata": {},
   "outputs": [],
   "source": [
    "IMAGES_PATH = 'Tensorflow/workspace/images/collectedImages'\n",
    "labels = ['hello', 'thanks', 'yes', 'no']\n",
    "number_imgs = 15"
   ]
  },
  {
   "cell_type": "code",
   "execution_count": 4,
   "metadata": {},
   "outputs": [
    {
     "name": "stdout",
     "output_type": "stream",
     "text": [
      "Collecting images for hello\n",
      "img 0\n",
      "img 1\n",
      "img 2\n",
      "img 3\n",
      "img 4\n",
      "img 5\n",
      "img 6\n",
      "img 7\n",
      "img 8\n",
      "img 9\n",
      "img 10\n",
      "img 11\n",
      "img 12\n",
      "img 13\n",
      "img 14\n",
      "Collecting images for thanks\n",
      "img 0\n",
      "img 1\n",
      "img 2\n",
      "img 3\n",
      "img 4\n",
      "img 5\n",
      "img 6\n",
      "img 7\n",
      "img 8\n",
      "img 9\n",
      "img 10\n",
      "img 11\n",
      "img 12\n",
      "img 13\n",
      "img 14\n",
      "Collecting images for yes\n",
      "img 0\n",
      "img 1\n",
      "img 2\n",
      "img 3\n",
      "img 4\n",
      "img 5\n",
      "img 6\n",
      "img 7\n",
      "img 8\n",
      "img 9\n",
      "img 10\n",
      "img 11\n",
      "img 12\n",
      "img 13\n",
      "img 14\n",
      "Collecting images for no\n",
      "img 0\n",
      "img 1\n",
      "img 2\n",
      "img 3\n",
      "img 4\n",
      "img 5\n",
      "img 6\n",
      "img 7\n",
      "img 8\n",
      "img 9\n",
      "img 10\n",
      "img 11\n",
      "img 12\n",
      "img 13\n",
      "img 14\n"
     ]
    },
    {
     "ename": "",
     "evalue": "",
     "output_type": "error",
     "traceback": [
      "\u001b[1;31mThe Kernel crashed while executing code in the the current cell or a previous cell. Please review the code in the cell(s) to identify a possible cause of the failure. Click <a href='https://aka.ms/vscodeJupyterKernelCrash'>here</a> for more info. View Jupyter <a href='command:jupyter.viewOutput'>log</a> for further details."
     ]
    }
   ],
   "source": [
    "for label in labels:\n",
    "    !mkdir {'Tensorflow\\workspace\\images\\collectedImages\\\\'+label}\n",
    "    cap = cv2.VideoCapture(0)\n",
    "    print('Collecting images for {}'.format(label))\n",
    "    time.sleep(5)\n",
    "\n",
    "    for imgnum in range(number_imgs):\n",
    "        print('img {}'.format(imgnum))\n",
    "        ret, frame = cap.read()\n",
    "        imagename = os.path.join(IMAGES_PATH, label, label+'.'+'{}.jpg'.format(str(uuid.uuid1())))\n",
    "        cv2.imwrite(imagename, frame)\n",
    "        cv2.imshow('frame', frame)\n",
    "        time.sleep(2)\n",
    "\n",
    "        if cv2.waitKey(1) & 0xFF == ord('q'):\n",
    "            break\n",
    "\n",
    "    cap.release()\n",
    "        "
   ]
  }
 ],
 "metadata": {
  "kernelspec": {
   "display_name": "Python 3",
   "language": "python",
   "name": "python3"
  },
  "language_info": {
   "codemirror_mode": {
    "name": "ipython",
    "version": 3
   },
   "file_extension": ".py",
   "mimetype": "text/x-python",
   "name": "python",
   "nbconvert_exporter": "python",
   "pygments_lexer": "ipython3",
   "version": "3.11.0"
  },
  "orig_nbformat": 4,
  "vscode": {
   "interpreter": {
    "hash": "0f799dc926e5d80a4ca964e3f211d108121a32721173efdd9d1bdfee5a388fa9"
   }
  }
 },
 "nbformat": 4,
 "nbformat_minor": 2
}
